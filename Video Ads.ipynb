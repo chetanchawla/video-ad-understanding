{
 "cells": [
  {
   "cell_type": "markdown",
   "metadata": {},
   "source": [
    "# Video Ads"
   ]
  },
  {
   "cell_type": "markdown",
   "metadata": {},
   "source": [
    "## What are advertisements "
   ]
  },
  {
   "cell_type": "markdown",
   "metadata": {},
   "source": [
    "Advertisements are the representation of persuasion in every form which are used to prompt people to do a certain action."
   ]
  },
  {
   "cell_type": "markdown",
   "metadata": {},
   "source": [
    "## Our Task"
   ]
  },
  {
   "cell_type": "markdown",
   "metadata": {},
   "source": [
    "Our task is to decode the visual rhetoric or the metaphoric messages present in visual form in various advertisements to understand what they want to convey to the viewer so that he/she can take the proper action with the reason so as to why.\n",
    "\n",
    "Our immediate goal consists of checking the effectiveness of a video ad based on the dataset given to us."
   ]
  },
  {
   "cell_type": "markdown",
   "metadata": {},
   "source": [
    "## Motivation"
   ]
  },
  {
   "cell_type": "markdown",
   "metadata": {},
   "source": [
    "Advertisements play an important role in our day to day life. Infact, everything we desire or get is due to so,e or other diem of advertising. The other side of the coin being everything we make or do, in some form or the other is to be sold to the outer world using advertising. Thus, it is inevitable to have a highly rated involvement of advertisements in ur day to day lives.\n",
    "\n",
    "These advertisements are best conveyed in a particular way which can effectively and efficiently convey the message. This form of representation which is generally present as a visual rhetoric must be identified and understood correctly for -\n"
   ]
  },
  {
   "cell_type": "markdown",
   "metadata": {},
   "source": [
    "### 1) Understanding the correct meaning of an ad"
   ]
  },
  {
   "cell_type": "markdown",
   "metadata": {},
   "source": [
    "### 2) Knowing the sentiments of the ad- what and why\n",
    "\n"
   ]
  },
  {
   "cell_type": "markdown",
   "metadata": {},
   "source": [
    "### 3) Making and checking the effectivemess of generated ads\n"
   ]
  },
  {
   "cell_type": "markdown",
   "metadata": {},
   "source": [
    "### 4) Finding particular target audiences"
   ]
  },
  {
   "cell_type": "markdown",
   "metadata": {},
   "source": [
    "With growing market due to boom in technology, most companies aim to advertise smarter and are employing huge amounts of resources to capture data from various sources, each click counting as data, thus spending billions of dollars to make their advertisements reach the right people with maximum effect\n",
    "\n",
    "Hence, there is a rising need for a comprehensive system that can address various aspects of understanding/decoding the rhetoric of advertisements to answer\n"
   ]
  },
  {
   "cell_type": "markdown",
   "metadata": {},
   "source": [
    "### 1) What does the ad say"
   ]
  },
  {
   "cell_type": "markdown",
   "metadata": {},
   "source": [
    "### 2) Why should I do what the ad says"
   ]
  },
  {
   "cell_type": "markdown",
   "metadata": {},
   "source": [
    "### 3) What is the effectiveness parameters of the add based on Symbolism, sentiments etc."
   ]
  },
  {
   "cell_type": "markdown",
   "metadata": {},
   "source": [
    "# Examples of image ads"
   ]
  },
  {
   "cell_type": "code",
   "execution_count": 3,
   "metadata": {},
   "outputs": [],
   "source": [
    "from IPython.display import HTML\n",
    "import pandas as pd\n",
    "import numpy as np\n",
    "from pytube import YouTube"
   ]
  },
  {
   "cell_type": "code",
   "execution_count": 4,
   "metadata": {},
   "outputs": [],
   "source": [
    "import cv2\n",
    "%matplotlib inline\n",
    "import matplotlib.pyplot as plt\n",
    "import matplotlib.image as mpimg\n",
    "import numpy as np"
   ]
  },
  {
   "cell_type": "code",
   "execution_count": 1,
   "metadata": {},
   "outputs": [
    {
     "ename": "NameError",
     "evalue": "name 'HTML' is not defined",
     "output_type": "error",
     "traceback": [
      "\u001b[1;31m---------------------------------------------------------------------------\u001b[0m",
      "\u001b[1;31mNameError\u001b[0m                                 Traceback (most recent call last)",
      "\u001b[1;32m<ipython-input-1-a88005a69fbf>\u001b[0m in \u001b[0;36m<module>\u001b[1;34m()\u001b[0m\n\u001b[1;32m----> 1\u001b[1;33m \u001b[0mHTML\u001b[0m\u001b[1;33m(\u001b[0m\u001b[1;34m'<iframe width=\"800\" height=\"400\" src=\"https://qph.ec.quoracdn.net/main-qimg-c85f4edcffa577c87f02f644459e33b4-c\" frameborder=\"0\" allowfullscreen></iframe>'\u001b[0m\u001b[1;33m)\u001b[0m\u001b[1;33m\u001b[0m\u001b[0m\n\u001b[0m",
      "\u001b[1;31mNameError\u001b[0m: name 'HTML' is not defined"
     ]
    }
   ],
   "source": [
    "HTML('<iframe width=\"800\" height=\"400\" src=\"https://qph.ec.quoracdn.net/main-qimg-c85f4edcffa577c87f02f644459e33b4-c\" frameborder=\"0\" allowfullscreen></iframe>')"
   ]
  },
  {
   "cell_type": "code",
   "execution_count": 6,
   "metadata": {},
   "outputs": [
    {
     "data": {
      "text/html": [
       "<iframe width=\"800\" height=\"400\" src=\"http://webneel.com/daily/sites/default/files/images/project/creative-advertisement%20(13).jpg\" frameborder=\"0\" allowfullscreen></iframe>"
      ],
      "text/plain": [
       "<IPython.core.display.HTML object>"
      ]
     },
     "execution_count": 6,
     "metadata": {},
     "output_type": "execute_result"
    }
   ],
   "source": [
    "HTML('<iframe width=\"800\" height=\"400\" src=\"http://webneel.com/daily/sites/default/files/images/project/creative-advertisement%20(13).jpg\" frameborder=\"0\" allowfullscreen></iframe>')"
   ]
  },
  {
   "cell_type": "markdown",
   "metadata": {},
   "source": [
    "## Video ad examples"
   ]
  },
  {
   "cell_type": "code",
   "execution_count": 7,
   "metadata": {},
   "outputs": [
    {
     "name": "stdout",
     "output_type": "stream",
     "text": [
      "'KONL05sae4E'\n"
     ]
    }
   ],
   "source": [
    "videos=pd.read_csv('final_video_id_list.csv',header=None)\n",
    "print(videos[0][0])"
   ]
  },
  {
   "cell_type": "code",
   "execution_count": 8,
   "metadata": {},
   "outputs": [
    {
     "data": {
      "text/html": [
       "<iframe width=\"560\" height=\"315\" src=\"https://www.youtube.com/embed/sPneQzqhh4g\"frameborder=\"0\" allowfullscreen></iframe>"
      ],
      "text/plain": [
       "<IPython.core.display.HTML object>"
      ]
     },
     "execution_count": 8,
     "metadata": {},
     "output_type": "execute_result"
    }
   ],
   "source": [
    "HTML('<iframe width=\"560\" height=\"315\" src=\"https://www.youtube.com/embed/' +videos[0][18].split('\\'')[1]+ '\"frameborder=\"0\" allowfullscreen></iframe>')"
   ]
  },
  {
   "cell_type": "markdown",
   "metadata": {},
   "source": [
    "## Summary"
   ]
  },
  {
   "cell_type": "code",
   "execution_count": 9,
   "metadata": {},
   "outputs": [
    {
     "data": {
      "text/html": [
       "<iframe width=\"800\" height=\"400\" src=\"https://www.youtube.com/embed/gjBj-MkmbWs\" frameborder=\"0\" allowfullscreen></iframe>"
      ],
      "text/plain": [
       "<IPython.core.display.HTML object>"
      ]
     },
     "execution_count": 9,
     "metadata": {},
     "output_type": "execute_result"
    }
   ],
   "source": [
    "HTML('<iframe width=\"800\" height=\"400\" src=\"https://www.youtube.com/embed/gjBj-MkmbWs\" frameborder=\"0\" allowfullscreen></iframe>')"
   ]
  },
  {
   "cell_type": "markdown",
   "metadata": {},
   "source": [
    "### Automatic understanding of Image and Video Advertisements"
   ]
  },
  {
   "cell_type": "markdown",
   "metadata": {},
   "source": [
    "The paper presents the novel problem of understanding what an advertisement is trying to convey and enable research on it by providing 2 datasets-\n"
   ]
  },
  {
   "cell_type": "markdown",
   "metadata": {},
   "source": [
    "### 1) Image Dataset- having 64,832 image ads"
   ]
  },
  {
   "cell_type": "markdown",
   "metadata": {},
   "source": [
    "### 2) Video Dataset- having 3447 advertisements"
   ]
  },
  {
   "cell_type": "markdown",
   "metadata": {},
   "source": [
    "The annotations include"
   ]
  },
  {
   "cell_type": "markdown",
   "metadata": {},
   "source": [
    "#### 1) Topic"
   ]
  },
  {
   "cell_type": "markdown",
   "metadata": {},
   "source": [
    "#### 2)Sentiment"
   ]
  },
  {
   "cell_type": "markdown",
   "metadata": {},
   "source": [
    "#### 3) Question answers"
   ]
  },
  {
   "cell_type": "markdown",
   "metadata": {},
   "source": [
    "#### 4) Symbolic representation"
   ]
  },
  {
   "cell_type": "markdown",
   "metadata": {},
   "source": [
    "#### 5) Persuasive statergies"
   ]
  },
  {
   "cell_type": "markdown",
   "metadata": {},
   "source": [
    "The paper presens a baseline results of around 11% on image datasets has both product ads and public service announcements(PSAs). Amazon Mechanical Turk Workers were asked for annotations- which consists of"
   ]
  },
  {
   "cell_type": "markdown",
   "metadata": {},
   "source": [
    "#### -Topic"
   ]
  },
  {
   "cell_type": "markdown",
   "metadata": {},
   "source": [
    "What productit advertises/subject of PSA "
   ]
  },
  {
   "cell_type": "markdown",
   "metadata": {},
   "source": [
    "#### - Sentiment"
   ]
  },
  {
   "cell_type": "markdown",
   "metadata": {},
   "source": [
    "it attempts to inspire in viewer( disturbance, joy)"
   ]
  },
  {
   "cell_type": "markdown",
   "metadata": {},
   "source": [
    "#### -Statergy"
   ]
  },
  {
   "cell_type": "markdown",
   "metadata": {},
   "source": [
    "used to convey the message effectively "
   ]
  },
  {
   "cell_type": "markdown",
   "metadata": {},
   "source": [
    "#### -What"
   ]
  },
  {
   "cell_type": "markdown",
   "metadata": {},
   "source": [
    "should the viewer do according to the ad"
   ]
  },
  {
   "cell_type": "markdown",
   "metadata": {},
   "source": [
    "#### -Why"
   ]
  },
  {
   "cell_type": "markdown",
   "metadata": {},
   "source": [
    "should the user do it"
   ]
  },
  {
   "cell_type": "markdown",
   "metadata": {},
   "source": [
    "#### -Symbolism"
   ]
  },
  {
   "cell_type": "markdown",
   "metadata": {},
   "source": [
    "The paper desctibes that for computer vision to understand rhetorics of an ad to know questions like why is a very difficult chalenmge as compared to sentiment and effectiveness  and the topic analysis"
   ]
  },
  {
   "cell_type": "markdown",
   "metadata": {},
   "source": [
    "The paper further highlights the importance of proposing \n",
    "\n",
    "- Methods to find effectiveness of a certain advertisement\n",
    "\n",
    "- Understanding of ststergies, presenting tricky ads\n",
    "\n",
    "- Decoding of messages of ads for better ad targetting"
   ]
  },
  {
   "cell_type": "markdown",
   "metadata": {},
   "source": [
    "The paper, in its related work presents several atempts of studying ad behaviours but in media studies and mathing, rather finding submodules such as sentiment analysis, visual persuasion and object description and labeling. It also involves image captioning and vision and language joint problem as a submodules for question-answering"
   ]
  },
  {
   "cell_type": "markdown",
   "metadata": {},
   "source": [
    "### Image Dataset"
   ]
  },
  {
   "cell_type": "markdown",
   "metadata": {},
   "source": [
    "#### Collection"
   ]
  },
  {
   "cell_type": "markdown",
   "metadata": {},
   "source": [
    "They assembeled a list of keywords for advertisement topics and developed their heirarchy that describe topics of different levels of granularity - coarse and fine  adn obtained images from google search query with size >256X256 which were 220,000 noisy images. Duplicates were removed using SIFT bag of wors Histogram matching, leaving 190,000 images. MTurk was given 21,495 images to tell if that was an advertisement or not and then the labels were trained on a ResNet which was used to distinguish the remaining 168,000 images. The network given images were again given to Mturk which finally resulted in 64,832 cleaned up ad images."
   ]
  },
  {
   "cell_type": "markdown",
   "metadata": {},
   "source": [
    "#### Topics and Sentiments"
   ]
  },
  {
   "cell_type": "markdown",
   "metadata": {},
   "source": [
    "Taxonomies of topics and sentiments were created by firstly, free form topics and sentiment labelling on a small batch of images was performed, which were clustered to form the taxonomy of 38 topics and 30 sentiments"
   ]
  },
  {
   "cell_type": "markdown",
   "metadata": {},
   "source": [
    "#### Questions and Answers"
   ]
  },
  {
   "cell_type": "markdown",
   "metadata": {},
   "source": [
    "MTurk workers were asked the questions and the answers were in the form - 'I should `[Action]` because `[Reason]`'"
   ]
  },
  {
   "cell_type": "markdown",
   "metadata": {},
   "source": [
    "#### Symbols"
   ]
  },
  {
   "cell_type": "markdown",
   "metadata": {},
   "source": [
    "They developed a list of symbols (concepts(signifiers) and signifieds) and corresponding training data using MTurkers. Stage 1 asked the advertisement to be literal or non literal. Non literal ads then asked for signifier and signified with a bounding box. This gave rise to 221 different symbols"
   ]
  },
  {
   "cell_type": "markdown",
   "metadata": {},
   "source": [
    "The paper then presentes the challenges in collectiing the dataset and a whooping $13,000 amount they paid to the Amazon Mechanical Turk Workers"
   ]
  },
  {
   "cell_type": "markdown",
   "metadata": {},
   "source": [
    "#### Statergies"
   ]
  },
  {
   "cell_type": "markdown",
   "metadata": {},
   "source": [
    "9 statergies were listed using a small batch of dataset of 500 images. Then MTurkers were again asked to label statergies use in the ads giving rise to similar statistics of frequency of statergy used as observed in the small batch of dataset"
   ]
  },
  {
   "cell_type": "markdown",
   "metadata": {},
   "source": [
    "### Video Dataset"
   ]
  },
  {
   "cell_type": "markdown",
   "metadata": {},
   "source": [
    "949 videos were obtained from an Internet Service Provided abd rest videos having >=200,000 views and more likes than dislikes without duplication were taken from YouTube\n",
    "\n",
    "Duplication check 30-frames from the start and 30 frames from the end of the videos withlowered resolution weretaken and put into an average image of compression results of these frames which was checked for matching using a hashing algorithm given 5000+ videos. Low resolution, spoofs and non advertisemnent videos were removed from the raw set and rest were labeled by Mturk giving 3477 video ads in total."
   ]
  },
  {
   "cell_type": "markdown",
   "metadata": {},
   "source": [
    "### The annotations include"
   ]
  },
  {
   "cell_type": "markdown",
   "metadata": {},
   "source": [
    "- Topic\n",
    "\n",
    "- Sentiment\n",
    "\n",
    "- Action/Reason- WHAT to do and WHY to do\n",
    "\n",
    "- Funny - Yes/No\n",
    "\n",
    "- Exciting - Yes/No\n",
    "\n",
    "- English - Yes/No/Doesn't matter\n",
    "\n",
    "- Effective - (No->Extremely effective)     (1->5)"
   ]
  },
  {
   "cell_type": "markdown",
   "metadata": {},
   "source": [
    "# Experiments"
   ]
  },
  {
   "cell_type": "markdown",
   "metadata": {},
   "source": [
    "### Image Ads"
   ]
  },
  {
   "cell_type": "code",
   "execution_count": 10,
   "metadata": {},
   "outputs": [
    {
     "data": {
      "text/html": [
       "<iframe width=\"1024\" height=\"550\" src=\"imagearc.png\" frameborder=\"0\" allowfullscreen></iframe>"
      ],
      "text/plain": [
       "<IPython.core.display.HTML object>"
      ]
     },
     "execution_count": 10,
     "metadata": {},
     "output_type": "execute_result"
    }
   ],
   "source": [
    "HTML('<iframe width=\"1024\" height=\"550\" src=\"imagearc.png\" frameborder=\"0\" allowfullscreen></iframe>')"
   ]
  },
  {
   "cell_type": "markdown",
   "metadata": {},
   "source": [
    "### Video Ads"
   ]
  },
  {
   "cell_type": "code",
   "execution_count": 11,
   "metadata": {
    "scrolled": false
   },
   "outputs": [
    {
     "data": {
      "text/html": [
       "<iframe width=\"600\" height=\"400\" src=\"Videoarc.png\" frameborder=\"0\" allowfullscreen></iframe>"
      ],
      "text/plain": [
       "<IPython.core.display.HTML object>"
      ]
     },
     "execution_count": 11,
     "metadata": {},
     "output_type": "execute_result"
    }
   ],
   "source": [
    "HTML('<iframe width=\"600\" height=\"400\" src=\"Videoarc.png\" frameborder=\"0\" allowfullscreen></iframe>')"
   ]
  },
  {
   "cell_type": "code",
   "execution_count": null,
   "metadata": {},
   "outputs": [],
   "source": []
  },
  {
   "cell_type": "markdown",
   "metadata": {},
   "source": [
    "### Videos Dataset"
   ]
  },
  {
   "cell_type": "code",
   "execution_count": 12,
   "metadata": {},
   "outputs": [],
   "source": [
    "videos=pd.read_csv('final_video_id_list.csv',header=None)"
   ]
  },
  {
   "cell_type": "code",
   "execution_count": 13,
   "metadata": {},
   "outputs": [],
   "source": [
    "ex=videos[0][2].split('\\'')[1]"
   ]
  },
  {
   "cell_type": "code",
   "execution_count": 14,
   "metadata": {},
   "outputs": [],
   "source": [
    "def load_video(name):\n",
    "    HTML('<iframe width=\"560\" height=\"315\" src=\"https://www.youtube.com/embed/' +name+ '\"frameborder=\"0\" allowfullscreen></iframe>')"
   ]
  },
  {
   "cell_type": "code",
   "execution_count": 15,
   "metadata": {},
   "outputs": [],
   "source": [
    "load_video(ex)"
   ]
  },
  {
   "cell_type": "code",
   "execution_count": 16,
   "metadata": {},
   "outputs": [],
   "source": [
    "video1 = YouTube('http://youtube.com/watch?v='+ex)"
   ]
  },
  {
   "cell_type": "code",
   "execution_count": 17,
   "metadata": {},
   "outputs": [
    {
     "ename": "NameError",
     "evalue": "name 'yt' is not defined",
     "output_type": "error",
     "traceback": [
      "\u001b[1;31m---------------------------------------------------------------------------\u001b[0m",
      "\u001b[1;31mNameError\u001b[0m                                 Traceback (most recent call last)",
      "\u001b[1;32m<ipython-input-17-58336788cdae>\u001b[0m in \u001b[0;36m<module>\u001b[1;34m()\u001b[0m\n\u001b[0;32m      1\u001b[0m \u001b[0mvideo1\u001b[0m\u001b[1;33m.\u001b[0m\u001b[0mstreams\u001b[0m\u001b[1;33m.\u001b[0m\u001b[0mfilter\u001b[0m\u001b[1;33m(\u001b[0m\u001b[0msubtype\u001b[0m\u001b[1;33m=\u001b[0m\u001b[1;34m'mp4'\u001b[0m\u001b[1;33m)\u001b[0m\u001b[1;33m.\u001b[0m\u001b[0mall\u001b[0m\u001b[1;33m(\u001b[0m\u001b[1;33m)\u001b[0m\u001b[1;33m\u001b[0m\u001b[0m\n\u001b[1;32m----> 2\u001b[1;33m \u001b[0myt\u001b[0m\u001b[1;33m.\u001b[0m\u001b[0mstreams\u001b[0m\u001b[1;33m.\u001b[0m\u001b[0mget_by_itag\u001b[0m\u001b[1;33m(\u001b[0m\u001b[1;36m22\u001b[0m\u001b[1;33m)\u001b[0m\u001b[1;33m\u001b[0m\u001b[0m\n\u001b[0m",
      "\u001b[1;31mNameError\u001b[0m: name 'yt' is not defined"
     ]
    }
   ],
   "source": [
    "video1.streams.filter(subtype='mp4').all()\n",
    "yt.streams.get_by_itag(22)"
   ]
  },
  {
   "cell_type": "code",
   "execution_count": null,
   "metadata": {
    "scrolled": true
   },
   "outputs": [],
   "source": [
    "video1.get(mp4files[-1].extension,mp4files[-1].resolution)"
   ]
  },
  {
   "cell_type": "code",
   "execution_count": null,
   "metadata": {
    "scrolled": true
   },
   "outputs": [],
   "source": [
    "#importing the module\n",
    "from pytube import YouTube\n",
    " \n",
    "#where to save\n",
    "SAVE_PATH = \"E:/\" #to_do\n",
    " \n",
    "#link of the video to be downloaded\n",
    "link=\"https://www.youtube.com/watch?v=xWOoBJUqlbI\"\n",
    " \n",
    "try:\n",
    "    #object creation using YouTube which was imported in the beginning\n",
    "    yt = YouTube(link)\n",
    "except:\n",
    "    print(\"Connection Error\") #to handle exception\n",
    " \n",
    "#filters out all the files with \"mp4\" extension\n",
    "mp4files = yt.filter('mp4')\n",
    " \n",
    "yt.set_filename('GeeksforGeeks Video') #to set the name of the file\n",
    " \n",
    "#get the video with the extension and resolution passed in the get() function\n",
    "d_video = yt.get(mp4files[-1].extension,mp4files[-1].resolution)\n",
    "try:\n",
    "    #downloading the video\n",
    "    d_video.download(SAVE_PATH)\n",
    "except:\n",
    "    print(\"Some Error!\")\n",
    "print('Task Completed!')"
   ]
  },
  {
   "cell_type": "code",
   "execution_count": null,
   "metadata": {},
   "outputs": [],
   "source": [
    "from pytube import YouTube\n",
    "yt = YouTube(\"http://www.youtube.com/watch?v=R7yfISlGLNU\")\n",
    "yt.streams.all()"
   ]
  }
 ],
 "metadata": {
  "kernelspec": {
   "display_name": "Python 3",
   "language": "python",
   "name": "python3"
  },
  "language_info": {
   "codemirror_mode": {
    "name": "ipython",
    "version": 3
   },
   "file_extension": ".py",
   "mimetype": "text/x-python",
   "name": "python",
   "nbconvert_exporter": "python",
   "pygments_lexer": "ipython3",
   "version": "3.6.4"
  }
 },
 "nbformat": 4,
 "nbformat_minor": 2
}
